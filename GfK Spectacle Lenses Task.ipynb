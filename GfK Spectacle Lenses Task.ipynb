{
 "cells": [
  {
   "cell_type": "code",
   "execution_count": 1,
   "id": "5f6276c9",
   "metadata": {},
   "outputs": [],
   "source": [
    "import numpy as np \n",
    "import pandas as pd\n",
    "import matplotlib.pyplot as plt\n",
    "import seaborn as sns\n",
    "%matplotlib inline\n",
    "import sklearn\n",
    "from sklearn.linear_model import LogisticRegression\n",
    "from sklearn.datasets import make_classification\n",
    "from sklearn.model_selection import train_test_split\n",
    "from sklearn.preprocessing import StandardScaler\n",
    "from sklearn.metrics import log_loss, roc_auc_score, recall_score, precision_score, average_precision_score, f1_score, classification_report, accuracy_score, plot_roc_curve, plot_precision_recall_curve, plot_confusion_matrix"
   ]
  },
  {
   "cell_type": "code",
   "execution_count": 2,
   "id": "c20015a2",
   "metadata": {},
   "outputs": [],
   "source": [
    "data = pd.read_excel(r\"C:\\Users\\gog10\\GfK Spectacle\\GfK-Spectacle\\GfK_spectacle_lenses_data.xlsx\")"
   ]
  },
  {
   "cell_type": "code",
   "execution_count": 3,
   "id": "a3c0004a",
   "metadata": {},
   "outputs": [
    {
     "data": {
      "text/html": [
       "<div>\n",
       "<style scoped>\n",
       "    .dataframe tbody tr th:only-of-type {\n",
       "        vertical-align: middle;\n",
       "    }\n",
       "\n",
       "    .dataframe tbody tr th {\n",
       "        vertical-align: top;\n",
       "    }\n",
       "\n",
       "    .dataframe thead th {\n",
       "        text-align: right;\n",
       "    }\n",
       "</style>\n",
       "<table border=\"1\" class=\"dataframe\">\n",
       "  <thead>\n",
       "    <tr style=\"text-align: right;\">\n",
       "      <th></th>\n",
       "      <th>item_id</th>\n",
       "      <th>main_text</th>\n",
       "      <th>country_name</th>\n",
       "      <th>retailer_pg</th>\n",
       "      <th>mdm_brand_text</th>\n",
       "      <th>mdm_model_text</th>\n",
       "    </tr>\n",
       "  </thead>\n",
       "  <tbody>\n",
       "    <tr>\n",
       "      <th>0</th>\n",
       "      <td>138176095</td>\n",
       "      <td>ID1.60LIFESTL3IURBAN(RX)</td>\n",
       "      <td>SPAIN</td>\n",
       "      <td>CRISTALES</td>\n",
       "      <td>HOYA</td>\n",
       "      <td>HOYALUX ID LIFESTYLE 3-I HVLL</td>\n",
       "    </tr>\n",
       "    <tr>\n",
       "      <th>1</th>\n",
       "      <td>138176095</td>\n",
       "      <td>ID1.60LIFESTL3IURBAN(RX)</td>\n",
       "      <td>SPAIN</td>\n",
       "      <td>CRISTALES</td>\n",
       "      <td>HOYA</td>\n",
       "      <td>HOYALUX ID LIFESTYLE 3-I HVLL</td>\n",
       "    </tr>\n",
       "    <tr>\n",
       "      <th>2</th>\n",
       "      <td>138176095</td>\n",
       "      <td>ID1.60LIFESTL3IURBAN(RX)</td>\n",
       "      <td>SPAIN</td>\n",
       "      <td>CRISTALES</td>\n",
       "      <td>HOYA</td>\n",
       "      <td>HOYALUX ID LIFESTYLE 3-I HVLL</td>\n",
       "    </tr>\n",
       "    <tr>\n",
       "      <th>3</th>\n",
       "      <td>138176095</td>\n",
       "      <td>ID1.60LIFESTL3IURBAN(RX)</td>\n",
       "      <td>SPAIN</td>\n",
       "      <td>CRISTALES</td>\n",
       "      <td>HOYA</td>\n",
       "      <td>HOYALUX ID LIFESTYLE 3-I HVLL</td>\n",
       "    </tr>\n",
       "    <tr>\n",
       "      <th>4</th>\n",
       "      <td>138176095</td>\n",
       "      <td>ID1.60LIFESTL3IURBAN(RX)</td>\n",
       "      <td>SPAIN</td>\n",
       "      <td>CRISTALES</td>\n",
       "      <td>HOYA</td>\n",
       "      <td>HOYALUX ID LIFESTYLE 3-I HVLL</td>\n",
       "    </tr>\n",
       "  </tbody>\n",
       "</table>\n",
       "</div>"
      ],
      "text/plain": [
       "     item_id                 main_text country_name retailer_pg  \\\n",
       "0  138176095  ID1.60LIFESTL3IURBAN(RX)        SPAIN   CRISTALES   \n",
       "1  138176095  ID1.60LIFESTL3IURBAN(RX)        SPAIN   CRISTALES   \n",
       "2  138176095  ID1.60LIFESTL3IURBAN(RX)        SPAIN   CRISTALES   \n",
       "3  138176095  ID1.60LIFESTL3IURBAN(RX)        SPAIN   CRISTALES   \n",
       "4  138176095  ID1.60LIFESTL3IURBAN(RX)        SPAIN   CRISTALES   \n",
       "\n",
       "  mdm_brand_text                 mdm_model_text  \n",
       "0           HOYA  HOYALUX ID LIFESTYLE 3-I HVLL  \n",
       "1           HOYA  HOYALUX ID LIFESTYLE 3-I HVLL  \n",
       "2           HOYA  HOYALUX ID LIFESTYLE 3-I HVLL  \n",
       "3           HOYA  HOYALUX ID LIFESTYLE 3-I HVLL  \n",
       "4           HOYA  HOYALUX ID LIFESTYLE 3-I HVLL  "
      ]
     },
     "execution_count": 3,
     "metadata": {},
     "output_type": "execute_result"
    }
   ],
   "source": [
    "data.head()"
   ]
  },
  {
   "cell_type": "code",
   "execution_count": 4,
   "id": "5a13e027",
   "metadata": {},
   "outputs": [
    {
     "name": "stdout",
     "output_type": "stream",
     "text": [
      "<class 'pandas.core.frame.DataFrame'>\n",
      "RangeIndex: 3549 entries, 0 to 3548\n",
      "Data columns (total 6 columns):\n",
      " #   Column          Non-Null Count  Dtype \n",
      "---  ------          --------------  ----- \n",
      " 0   item_id         3549 non-null   int64 \n",
      " 1   main_text       3547 non-null   object\n",
      " 2   country_name    3549 non-null   object\n",
      " 3   retailer_pg     3549 non-null   object\n",
      " 4   mdm_brand_text  3549 non-null   object\n",
      " 5   mdm_model_text  3549 non-null   object\n",
      "dtypes: int64(1), object(5)\n",
      "memory usage: 166.5+ KB\n"
     ]
    }
   ],
   "source": [
    "data.info()"
   ]
  },
  {
   "cell_type": "code",
   "execution_count": 5,
   "id": "eb1a3801",
   "metadata": {},
   "outputs": [
    {
     "name": "stdout",
     "output_type": "stream",
     "text": [
      "<class 'pandas.core.frame.DataFrame'>\n",
      "RangeIndex: 3549 entries, 0 to 3548\n",
      "Data columns (total 6 columns):\n",
      " #   Column          Non-Null Count  Dtype \n",
      "---  ------          --------------  ----- \n",
      " 0   item_id         3549 non-null   int64 \n",
      " 1   main_text       3549 non-null   object\n",
      " 2   country_name    3549 non-null   object\n",
      " 3   retailer_pg     3549 non-null   object\n",
      " 4   mdm_brand_text  3549 non-null   object\n",
      " 5   mdm_model_text  3549 non-null   object\n",
      "dtypes: int64(1), object(5)\n",
      "memory usage: 166.5+ KB\n"
     ]
    }
   ],
   "source": [
    "#Replace null values in the data\n",
    "data.loc[data['main_text'].isnull(), 'main_text'] = 'Not Known'\n",
    "data.info()"
   ]
  },
  {
   "cell_type": "code",
   "execution_count": 6,
   "id": "9589f490",
   "metadata": {},
   "outputs": [
    {
     "data": {
      "text/plain": [
       "item_id            260\n",
       "main_text         2815\n",
       "country_name         2\n",
       "retailer_pg         44\n",
       "mdm_brand_text      23\n",
       "mdm_model_text     253\n",
       "dtype: int64"
      ]
     },
     "execution_count": 6,
     "metadata": {},
     "output_type": "execute_result"
    }
   ],
   "source": [
    "#Get number of values per column to see if the data can be categorised\n",
    "data.nunique()"
   ]
  },
  {
   "cell_type": "code",
   "execution_count": 7,
   "id": "2acac634",
   "metadata": {},
   "outputs": [
    {
     "data": {
      "text/plain": [
       "82981040     290\n",
       "138176095    226\n",
       "87099837     116\n",
       "88210952      71\n",
       "79429232      51\n",
       "            ... \n",
       "81343196       5\n",
       "122769301      5\n",
       "124336576      5\n",
       "119795873      5\n",
       "64840970       5\n",
       "Name: item_id, Length: 260, dtype: int64"
      ]
     },
     "execution_count": 7,
     "metadata": {},
     "output_type": "execute_result"
    }
   ],
   "source": [
    "#Counts by item id\n",
    "item_id_count = data['item_id'].value_counts()\n",
    "item_id_count"
   ]
  },
  {
   "cell_type": "code",
   "execution_count": 8,
   "id": "18485d36",
   "metadata": {},
   "outputs": [
    {
     "data": {
      "text/plain": [
       "SPAIN      2270\n",
       "GERMANY    1279\n",
       "Name: country_name, dtype: int64"
      ]
     },
     "execution_count": 8,
     "metadata": {},
     "output_type": "execute_result"
    }
   ],
   "source": [
    "#Counts by country\n",
    "country_count = data['country_name'].value_counts()\n",
    "country_count"
   ]
  },
  {
   "cell_type": "code",
   "execution_count": 9,
   "id": "04cd43a7",
   "metadata": {},
   "outputs": [
    {
     "name": "stderr",
     "output_type": "stream",
     "text": [
      "C:\\Users\\gog10\\anaconda3\\lib\\site-packages\\seaborn\\_decorators.py:36: FutureWarning: Pass the following variables as keyword args: x, y. From version 0.12, the only valid positional argument will be `data`, and passing other arguments without an explicit keyword will result in an error or misinterpretation.\n",
      "  warnings.warn(\n"
     ]
    },
    {
     "data": {
      "image/png": "[encoded data removed]",
      "text/plain": [
       "<Figure size 432x288 with 1 Axes>"
      ]
     },
     "metadata": {},
     "output_type": "display_data"
    }
   ],
   "source": [
    "#Plot counts by country\n",
    "sns.set(style=\"darkgrid\")\n",
    "sns.barplot(country_count.index, country_count.values, alpha=0.9)\n",
    "plt.title('Frequency Distribution of Countries')\n",
    "plt.ylabel('Frequency', fontsize=12)\n",
    "plt.xlabel('Country', fontsize=12)\n",
    "plt.show()  "
   ]
  },
  {
   "cell_type": "code",
   "execution_count": 10,
   "id": "934b41e0",
   "metadata": {},
   "outputs": [
    {
     "name": "stdout",
     "output_type": "stream",
     "text": [
      "showing info https://raw.githubusercontent.com/nltk/nltk_data/gh-pages/index.xml\n"
     ]
    },
    {
     "data": {
      "text/plain": [
       "array(['ID1.60LIFESTL3IURBAN(RX)', 'ID1.60LIFESTL3IURBAN(RX)',\n",
       "       'ID1.60LIFESTL3IURBAN(RX)', ...,\n",
       "       'CRISTALES 34317 NULUX ACTIVE TF 1.5 HV ORGÁNICO HI VISION',\n",
       "       'CRISTALES 34244 MI LIFESTYLE 3I 1.5 HVLL BC PROGRESIVO ORGÁNICO HVLL BC',\n",
       "       'CRISTALES 34244 MI LIFESTYLE 3I 1.5 BC PROGRESIVO ORGÁNICO HVLL BC'],\n",
       "      dtype=object)"
      ]
     },
     "execution_count": 10,
     "metadata": {},
     "output_type": "execute_result"
    }
   ],
   "source": [
    "import itertools\n",
    "import nltk\n",
    "nltk.download()\n",
    "from nltk import word_tokenize\n",
    "from sklearn.feature_extraction.text import TfidfVectorizer\n",
    "from sklearn.model_selection import train_test_split\n",
    "from sklearn.naive_bayes import MultinomialNB\n",
    "from sklearn.feature_extraction.text import CountVectorizer\n",
    "from sklearn.feature_extraction.text import TfidfTransformer\n",
    "\n",
    "texts = np.array(data['main_text']) #text contents in dataframe to array for processing\n",
    "texts\n"
   ]
  },
  {
   "cell_type": "code",
   "execution_count": 11,
   "id": "aa799837",
   "metadata": {},
   "outputs": [
    {
     "ename": "TypeError",
     "evalue": "expected string or bytes-like object",
     "output_type": "error",
     "traceback": [
      "\u001b[1;31m---------------------------------------------------------------------------\u001b[0m",
      "\u001b[1;31mTypeError\u001b[0m                                 Traceback (most recent call last)",
      "\u001b[1;32m~\\AppData\\Local\\Temp/ipykernel_11572/1605135782.py\u001b[0m in \u001b[0;36m<module>\u001b[1;34m\u001b[0m\n\u001b[1;32m----> 1\u001b[1;33m \u001b[0mvocab_length\u001b[0m \u001b[1;33m=\u001b[0m \u001b[0mlen\u001b[0m\u001b[1;33m(\u001b[0m\u001b[0mnltk\u001b[0m\u001b[1;33m.\u001b[0m\u001b[0mword_tokenize\u001b[0m\u001b[1;33m(\u001b[0m\u001b[0mlist\u001b[0m\u001b[1;33m(\u001b[0m\u001b[0mitertools\u001b[0m\u001b[1;33m.\u001b[0m\u001b[0mchain\u001b[0m\u001b[1;33m.\u001b[0m\u001b[0mfrom_iterable\u001b[0m\u001b[1;33m(\u001b[0m\u001b[0mtexts\u001b[0m\u001b[1;33m)\u001b[0m\u001b[1;33m)\u001b[0m\u001b[1;33m)\u001b[0m\u001b[1;33m)\u001b[0m\u001b[1;33m\u001b[0m\u001b[1;33m\u001b[0m\u001b[0m\n\u001b[0m",
      "\u001b[1;32m~\\anaconda3\\lib\\site-packages\\nltk\\tokenize\\__init__.py\u001b[0m in \u001b[0;36mword_tokenize\u001b[1;34m(text, language, preserve_line)\u001b[0m\n\u001b[0;32m    127\u001b[0m     \u001b[1;33m:\u001b[0m\u001b[0mtype\u001b[0m \u001b[0mpreserve_line\u001b[0m\u001b[1;33m:\u001b[0m \u001b[0mbool\u001b[0m\u001b[1;33m\u001b[0m\u001b[1;33m\u001b[0m\u001b[0m\n\u001b[0;32m    128\u001b[0m     \"\"\"\n\u001b[1;32m--> 129\u001b[1;33m     \u001b[0msentences\u001b[0m \u001b[1;33m=\u001b[0m \u001b[1;33m[\u001b[0m\u001b[0mtext\u001b[0m\u001b[1;33m]\u001b[0m \u001b[1;32mif\u001b[0m \u001b[0mpreserve_line\u001b[0m \u001b[1;32melse\u001b[0m \u001b[0msent_tokenize\u001b[0m\u001b[1;33m(\u001b[0m\u001b[0mtext\u001b[0m\u001b[1;33m,\u001b[0m \u001b[0mlanguage\u001b[0m\u001b[1;33m)\u001b[0m\u001b[1;33m\u001b[0m\u001b[1;33m\u001b[0m\u001b[0m\n\u001b[0m\u001b[0;32m    130\u001b[0m     return [\n\u001b[0;32m    131\u001b[0m         \u001b[0mtoken\u001b[0m \u001b[1;32mfor\u001b[0m \u001b[0msent\u001b[0m \u001b[1;32min\u001b[0m \u001b[0msentences\u001b[0m \u001b[1;32mfor\u001b[0m \u001b[0mtoken\u001b[0m \u001b[1;32min\u001b[0m \u001b[0m_treebank_word_tokenizer\u001b[0m\u001b[1;33m.\u001b[0m\u001b[0mtokenize\u001b[0m\u001b[1;33m(\u001b[0m\u001b[0msent\u001b[0m\u001b[1;33m)\u001b[0m\u001b[1;33m\u001b[0m\u001b[1;33m\u001b[0m\u001b[0m\n",
      "\u001b[1;32m~\\anaconda3\\lib\\site-packages\\nltk\\tokenize\\__init__.py\u001b[0m in \u001b[0;36msent_tokenize\u001b[1;34m(text, language)\u001b[0m\n\u001b[0;32m    105\u001b[0m     \"\"\"\n\u001b[0;32m    106\u001b[0m     \u001b[0mtokenizer\u001b[0m \u001b[1;33m=\u001b[0m \u001b[0mload\u001b[0m\u001b[1;33m(\u001b[0m\u001b[1;34mf\"tokenizers/punkt/{language}.pickle\"\u001b[0m\u001b[1;33m)\u001b[0m\u001b[1;33m\u001b[0m\u001b[1;33m\u001b[0m\u001b[0m\n\u001b[1;32m--> 107\u001b[1;33m     \u001b[1;32mreturn\u001b[0m \u001b[0mtokenizer\u001b[0m\u001b[1;33m.\u001b[0m\u001b[0mtokenize\u001b[0m\u001b[1;33m(\u001b[0m\u001b[0mtext\u001b[0m\u001b[1;33m)\u001b[0m\u001b[1;33m\u001b[0m\u001b[1;33m\u001b[0m\u001b[0m\n\u001b[0m\u001b[0;32m    108\u001b[0m \u001b[1;33m\u001b[0m\u001b[0m\n\u001b[0;32m    109\u001b[0m \u001b[1;33m\u001b[0m\u001b[0m\n",
      "\u001b[1;32m~\\anaconda3\\lib\\site-packages\\nltk\\tokenize\\punkt.py\u001b[0m in \u001b[0;36mtokenize\u001b[1;34m(self, text, realign_boundaries)\u001b[0m\n\u001b[0;32m   1275\u001b[0m         \u001b[0mGiven\u001b[0m \u001b[0ma\u001b[0m \u001b[0mtext\u001b[0m\u001b[1;33m,\u001b[0m \u001b[0mreturns\u001b[0m \u001b[0ma\u001b[0m \u001b[0mlist\u001b[0m \u001b[0mof\u001b[0m \u001b[0mthe\u001b[0m \u001b[0msentences\u001b[0m \u001b[1;32min\u001b[0m \u001b[0mthat\u001b[0m \u001b[0mtext\u001b[0m\u001b[1;33m.\u001b[0m\u001b[1;33m\u001b[0m\u001b[1;33m\u001b[0m\u001b[0m\n\u001b[0;32m   1276\u001b[0m         \"\"\"\n\u001b[1;32m-> 1277\u001b[1;33m         \u001b[1;32mreturn\u001b[0m \u001b[0mlist\u001b[0m\u001b[1;33m(\u001b[0m\u001b[0mself\u001b[0m\u001b[1;33m.\u001b[0m\u001b[0msentences_from_text\u001b[0m\u001b[1;33m(\u001b[0m\u001b[0mtext\u001b[0m\u001b[1;33m,\u001b[0m \u001b[0mrealign_boundaries\u001b[0m\u001b[1;33m)\u001b[0m\u001b[1;33m)\u001b[0m\u001b[1;33m\u001b[0m\u001b[1;33m\u001b[0m\u001b[0m\n\u001b[0m\u001b[0;32m   1278\u001b[0m \u001b[1;33m\u001b[0m\u001b[0m\n\u001b[0;32m   1279\u001b[0m     \u001b[1;32mdef\u001b[0m \u001b[0mdebug_decisions\u001b[0m\u001b[1;33m(\u001b[0m\u001b[0mself\u001b[0m\u001b[1;33m,\u001b[0m \u001b[0mtext\u001b[0m\u001b[1;33m)\u001b[0m\u001b[1;33m:\u001b[0m\u001b[1;33m\u001b[0m\u001b[1;33m\u001b[0m\u001b[0m\n",
      "\u001b[1;32m~\\anaconda3\\lib\\site-packages\\nltk\\tokenize\\punkt.py\u001b[0m in \u001b[0;36msentences_from_text\u001b[1;34m(self, text, realign_boundaries)\u001b[0m\n\u001b[0;32m   1332\u001b[0m         \u001b[0mfollows\u001b[0m \u001b[0mthe\u001b[0m \u001b[0mperiod\u001b[0m\u001b[1;33m.\u001b[0m\u001b[1;33m\u001b[0m\u001b[1;33m\u001b[0m\u001b[0m\n\u001b[0;32m   1333\u001b[0m         \"\"\"\n\u001b[1;32m-> 1334\u001b[1;33m         \u001b[1;32mreturn\u001b[0m \u001b[1;33m[\u001b[0m\u001b[0mtext\u001b[0m\u001b[1;33m[\u001b[0m\u001b[0ms\u001b[0m\u001b[1;33m:\u001b[0m\u001b[0me\u001b[0m\u001b[1;33m]\u001b[0m \u001b[1;32mfor\u001b[0m \u001b[0ms\u001b[0m\u001b[1;33m,\u001b[0m \u001b[0me\u001b[0m \u001b[1;32min\u001b[0m \u001b[0mself\u001b[0m\u001b[1;33m.\u001b[0m\u001b[0mspan_tokenize\u001b[0m\u001b[1;33m(\u001b[0m\u001b[0mtext\u001b[0m\u001b[1;33m,\u001b[0m \u001b[0mrealign_boundaries\u001b[0m\u001b[1;33m)\u001b[0m\u001b[1;33m]\u001b[0m\u001b[1;33m\u001b[0m\u001b[1;33m\u001b[0m\u001b[0m\n\u001b[0m\u001b[0;32m   1335\u001b[0m \u001b[1;33m\u001b[0m\u001b[0m\n\u001b[0;32m   1336\u001b[0m     \u001b[1;32mdef\u001b[0m \u001b[0m_slices_from_text\u001b[0m\u001b[1;33m(\u001b[0m\u001b[0mself\u001b[0m\u001b[1;33m,\u001b[0m \u001b[0mtext\u001b[0m\u001b[1;33m)\u001b[0m\u001b[1;33m:\u001b[0m\u001b[1;33m\u001b[0m\u001b[1;33m\u001b[0m\u001b[0m\n",
      "\u001b[1;32m~\\anaconda3\\lib\\site-packages\\nltk\\tokenize\\punkt.py\u001b[0m in \u001b[0;36m<listcomp>\u001b[1;34m(.0)\u001b[0m\n\u001b[0;32m   1332\u001b[0m         \u001b[0mfollows\u001b[0m \u001b[0mthe\u001b[0m \u001b[0mperiod\u001b[0m\u001b[1;33m.\u001b[0m\u001b[1;33m\u001b[0m\u001b[1;33m\u001b[0m\u001b[0m\n\u001b[0;32m   1333\u001b[0m         \"\"\"\n\u001b[1;32m-> 1334\u001b[1;33m         \u001b[1;32mreturn\u001b[0m \u001b[1;33m[\u001b[0m\u001b[0mtext\u001b[0m\u001b[1;33m[\u001b[0m\u001b[0ms\u001b[0m\u001b[1;33m:\u001b[0m\u001b[0me\u001b[0m\u001b[1;33m]\u001b[0m \u001b[1;32mfor\u001b[0m \u001b[0ms\u001b[0m\u001b[1;33m,\u001b[0m \u001b[0me\u001b[0m \u001b[1;32min\u001b[0m \u001b[0mself\u001b[0m\u001b[1;33m.\u001b[0m\u001b[0mspan_tokenize\u001b[0m\u001b[1;33m(\u001b[0m\u001b[0mtext\u001b[0m\u001b[1;33m,\u001b[0m \u001b[0mrealign_boundaries\u001b[0m\u001b[1;33m)\u001b[0m\u001b[1;33m]\u001b[0m\u001b[1;33m\u001b[0m\u001b[1;33m\u001b[0m\u001b[0m\n\u001b[0m\u001b[0;32m   1335\u001b[0m \u001b[1;33m\u001b[0m\u001b[0m\n\u001b[0;32m   1336\u001b[0m     \u001b[1;32mdef\u001b[0m \u001b[0m_slices_from_text\u001b[0m\u001b[1;33m(\u001b[0m\u001b[0mself\u001b[0m\u001b[1;33m,\u001b[0m \u001b[0mtext\u001b[0m\u001b[1;33m)\u001b[0m\u001b[1;33m:\u001b[0m\u001b[1;33m\u001b[0m\u001b[1;33m\u001b[0m\u001b[0m\n",
      "\u001b[1;32m~\\anaconda3\\lib\\site-packages\\nltk\\tokenize\\punkt.py\u001b[0m in \u001b[0;36mspan_tokenize\u001b[1;34m(self, text, realign_boundaries)\u001b[0m\n\u001b[0;32m   1322\u001b[0m         \u001b[1;32mif\u001b[0m \u001b[0mrealign_boundaries\u001b[0m\u001b[1;33m:\u001b[0m\u001b[1;33m\u001b[0m\u001b[1;33m\u001b[0m\u001b[0m\n\u001b[0;32m   1323\u001b[0m             \u001b[0mslices\u001b[0m \u001b[1;33m=\u001b[0m \u001b[0mself\u001b[0m\u001b[1;33m.\u001b[0m\u001b[0m_realign_boundaries\u001b[0m\u001b[1;33m(\u001b[0m\u001b[0mtext\u001b[0m\u001b[1;33m,\u001b[0m \u001b[0mslices\u001b[0m\u001b[1;33m)\u001b[0m\u001b[1;33m\u001b[0m\u001b[1;33m\u001b[0m\u001b[0m\n\u001b[1;32m-> 1324\u001b[1;33m         \u001b[1;32mfor\u001b[0m \u001b[0msentence\u001b[0m \u001b[1;32min\u001b[0m \u001b[0mslices\u001b[0m\u001b[1;33m:\u001b[0m\u001b[1;33m\u001b[0m\u001b[1;33m\u001b[0m\u001b[0m\n\u001b[0m\u001b[0;32m   1325\u001b[0m             \u001b[1;32myield\u001b[0m \u001b[1;33m(\u001b[0m\u001b[0msentence\u001b[0m\u001b[1;33m.\u001b[0m\u001b[0mstart\u001b[0m\u001b[1;33m,\u001b[0m \u001b[0msentence\u001b[0m\u001b[1;33m.\u001b[0m\u001b[0mstop\u001b[0m\u001b[1;33m)\u001b[0m\u001b[1;33m\u001b[0m\u001b[1;33m\u001b[0m\u001b[0m\n\u001b[0;32m   1326\u001b[0m \u001b[1;33m\u001b[0m\u001b[0m\n",
      "\u001b[1;32m~\\anaconda3\\lib\\site-packages\\nltk\\tokenize\\punkt.py\u001b[0m in \u001b[0;36m_realign_boundaries\u001b[1;34m(self, text, slices)\u001b[0m\n\u001b[0;32m   1363\u001b[0m         \"\"\"\n\u001b[0;32m   1364\u001b[0m         \u001b[0mrealign\u001b[0m \u001b[1;33m=\u001b[0m \u001b[1;36m0\u001b[0m\u001b[1;33m\u001b[0m\u001b[1;33m\u001b[0m\u001b[0m\n\u001b[1;32m-> 1365\u001b[1;33m         \u001b[1;32mfor\u001b[0m \u001b[0msentence1\u001b[0m\u001b[1;33m,\u001b[0m \u001b[0msentence2\u001b[0m \u001b[1;32min\u001b[0m \u001b[0m_pair_iter\u001b[0m\u001b[1;33m(\u001b[0m\u001b[0mslices\u001b[0m\u001b[1;33m)\u001b[0m\u001b[1;33m:\u001b[0m\u001b[1;33m\u001b[0m\u001b[1;33m\u001b[0m\u001b[0m\n\u001b[0m\u001b[0;32m   1366\u001b[0m             \u001b[0msentence1\u001b[0m \u001b[1;33m=\u001b[0m \u001b[0mslice\u001b[0m\u001b[1;33m(\u001b[0m\u001b[0msentence1\u001b[0m\u001b[1;33m.\u001b[0m\u001b[0mstart\u001b[0m \u001b[1;33m+\u001b[0m \u001b[0mrealign\u001b[0m\u001b[1;33m,\u001b[0m \u001b[0msentence1\u001b[0m\u001b[1;33m.\u001b[0m\u001b[0mstop\u001b[0m\u001b[1;33m)\u001b[0m\u001b[1;33m\u001b[0m\u001b[1;33m\u001b[0m\u001b[0m\n\u001b[0;32m   1367\u001b[0m             \u001b[1;32mif\u001b[0m \u001b[1;32mnot\u001b[0m \u001b[0msentence2\u001b[0m\u001b[1;33m:\u001b[0m\u001b[1;33m\u001b[0m\u001b[1;33m\u001b[0m\u001b[0m\n",
      "\u001b[1;32m~\\anaconda3\\lib\\site-packages\\nltk\\tokenize\\punkt.py\u001b[0m in \u001b[0;36m_pair_iter\u001b[1;34m(iterator)\u001b[0m\n\u001b[0;32m    317\u001b[0m     \u001b[0miterator\u001b[0m \u001b[1;33m=\u001b[0m \u001b[0miter\u001b[0m\u001b[1;33m(\u001b[0m\u001b[0miterator\u001b[0m\u001b[1;33m)\u001b[0m\u001b[1;33m\u001b[0m\u001b[1;33m\u001b[0m\u001b[0m\n\u001b[0;32m    318\u001b[0m     \u001b[1;32mtry\u001b[0m\u001b[1;33m:\u001b[0m\u001b[1;33m\u001b[0m\u001b[1;33m\u001b[0m\u001b[0m\n\u001b[1;32m--> 319\u001b[1;33m         \u001b[0mprev\u001b[0m \u001b[1;33m=\u001b[0m \u001b[0mnext\u001b[0m\u001b[1;33m(\u001b[0m\u001b[0miterator\u001b[0m\u001b[1;33m)\u001b[0m\u001b[1;33m\u001b[0m\u001b[1;33m\u001b[0m\u001b[0m\n\u001b[0m\u001b[0;32m    320\u001b[0m     \u001b[1;32mexcept\u001b[0m \u001b[0mStopIteration\u001b[0m\u001b[1;33m:\u001b[0m\u001b[1;33m\u001b[0m\u001b[1;33m\u001b[0m\u001b[0m\n\u001b[0;32m    321\u001b[0m         \u001b[1;32mreturn\u001b[0m\u001b[1;33m\u001b[0m\u001b[1;33m\u001b[0m\u001b[0m\n",
      "\u001b[1;32m~\\anaconda3\\lib\\site-packages\\nltk\\tokenize\\punkt.py\u001b[0m in \u001b[0;36m_slices_from_text\u001b[1;34m(self, text)\u001b[0m\n\u001b[0;32m   1336\u001b[0m     \u001b[1;32mdef\u001b[0m \u001b[0m_slices_from_text\u001b[0m\u001b[1;33m(\u001b[0m\u001b[0mself\u001b[0m\u001b[1;33m,\u001b[0m \u001b[0mtext\u001b[0m\u001b[1;33m)\u001b[0m\u001b[1;33m:\u001b[0m\u001b[1;33m\u001b[0m\u001b[1;33m\u001b[0m\u001b[0m\n\u001b[0;32m   1337\u001b[0m         \u001b[0mlast_break\u001b[0m \u001b[1;33m=\u001b[0m \u001b[1;36m0\u001b[0m\u001b[1;33m\u001b[0m\u001b[1;33m\u001b[0m\u001b[0m\n\u001b[1;32m-> 1338\u001b[1;33m         \u001b[1;32mfor\u001b[0m \u001b[0mmatch\u001b[0m \u001b[1;32min\u001b[0m \u001b[0mself\u001b[0m\u001b[1;33m.\u001b[0m\u001b[0m_lang_vars\u001b[0m\u001b[1;33m.\u001b[0m\u001b[0mperiod_context_re\u001b[0m\u001b[1;33m(\u001b[0m\u001b[1;33m)\u001b[0m\u001b[1;33m.\u001b[0m\u001b[0mfinditer\u001b[0m\u001b[1;33m(\u001b[0m\u001b[0mtext\u001b[0m\u001b[1;33m)\u001b[0m\u001b[1;33m:\u001b[0m\u001b[1;33m\u001b[0m\u001b[1;33m\u001b[0m\u001b[0m\n\u001b[0m\u001b[0;32m   1339\u001b[0m             \u001b[0mcontext\u001b[0m \u001b[1;33m=\u001b[0m \u001b[0mmatch\u001b[0m\u001b[1;33m.\u001b[0m\u001b[0mgroup\u001b[0m\u001b[1;33m(\u001b[0m\u001b[1;33m)\u001b[0m \u001b[1;33m+\u001b[0m \u001b[0mmatch\u001b[0m\u001b[1;33m.\u001b[0m\u001b[0mgroup\u001b[0m\u001b[1;33m(\u001b[0m\u001b[1;34m\"after_tok\"\u001b[0m\u001b[1;33m)\u001b[0m\u001b[1;33m\u001b[0m\u001b[1;33m\u001b[0m\u001b[0m\n\u001b[0;32m   1340\u001b[0m             \u001b[1;32mif\u001b[0m \u001b[0mself\u001b[0m\u001b[1;33m.\u001b[0m\u001b[0mtext_contains_sentbreak\u001b[0m\u001b[1;33m(\u001b[0m\u001b[0mcontext\u001b[0m\u001b[1;33m)\u001b[0m\u001b[1;33m:\u001b[0m\u001b[1;33m\u001b[0m\u001b[1;33m\u001b[0m\u001b[0m\n",
      "\u001b[1;31mTypeError\u001b[0m: expected string or bytes-like object"
     ]
    }
   ],
   "source": [
    "vocab_length = len(nltk.word_tokenize(list(itertools.chain.from_iterable(texts))))"
   ]
  },
  {
   "cell_type": "code",
   "execution_count": null,
   "id": "2c879618",
   "metadata": {},
   "outputs": [],
   "source": [
    "\n",
    "\n",
    "vectorizer = TfidfVectorizer()\n",
    "vec_transform = v.fit_transform(data['main_text'])\n",
    "vectorizer.get_feature_names()"
   ]
  },
  {
   "cell_type": "code",
   "execution_count": null,
   "id": "d251261a",
   "metadata": {},
   "outputs": [],
   "source": []
  },
  {
   "cell_type": "code",
   "execution_count": null,
   "id": "710a0ce0",
   "metadata": {},
   "outputs": [],
   "source": [
    "from nltk import word_tokenize\n",
    "from sklearn.feature_extraction.text import TfidfVectorizer\n",
    "from sklearn.model_selection import train_test_split\n",
    "from sklearn.naive_bayes import MultinomialNB\n",
    "from sklearn.feature_extraction.text import CountVectorizer\n",
    "from sklearn.feature_extraction.text import TfidfTransformer\n",
    "\n",
    "texts = data['main_text']\n",
    "\n",
    "\n",
    "def textExtraction(data):\n",
    "    vectorizer = CountVectorizer(analyzer = texts, min_df = 0.1)\n",
    "    data[texts] = data[texts].replace(np.nan, '', regex=True)\n",
    "    vectorizer.fit_transform(data[texts])\n",
    "    vocab = vectorizer.get_feature_names()\n",
    "    \n",
    "    return vocab\n",
    "\n",
    "data['Vocab'] = data.apply(textExtraction, axis=1)\n",
    "\n",
    "\n",
    "vocab_length = len(nltk.word_tokenize(list(itertools.chain.from_iterable(texts)))\n"
   ]
  },
  {
   "cell_type": "code",
   "execution_count": null,
   "id": "66d49848",
   "metadata": {},
   "outputs": [],
   "source": [
    "data"
   ]
  },
  {
   "cell_type": "code",
   "execution_count": null,
   "id": "c637e391",
   "metadata": {},
   "outputs": [],
   "source": [
    "import itertool\n",
    "from nltk import word_tokenize\n",
    "from sklearn.feature_extraction.text import TfidfVectorizer\n",
    "from sklearn.model_selection import train_test_split\n",
    "from sklearn.naive_bayes import MultinomialNB\n",
    "from sklearn.feature_extraction.text import CountVectorizer\n",
    "from sklearn.feature_extraction.text import TfidfTransformer\n",
    "                  \n",
    "#make Tfidf Vectorizer      \n",
    "vectorizer = TfidfVectorizer(ngram_range = (1,3), max_features = vocab_length)\n",
    "\n",
    "\n",
    "#text contents in dataframe to array for processing\n",
    "texts = data['main_text']\n",
    "texts = np.array(data['main_text']) \n",
    "\n",
    "#concatenate all the texts and tokenize the whole corpus\n",
    "vocab_length = len(nltk.word_tokenize(list(itertools.chain.from_iterable(texts)))\n",
    "                \n",
    "\n",
    "#encode the text\n",
    "tfidf_encodings = vectorizer.fit_transform(texts) \n",
    "\n",
    "#vectorized texts to dense list format for storage in dataframe\n",
    "data['tfidf'] = list(tfidf_encodings.toarray()) \n",
    "\n",
    "#get the vectors back out of the dataframe for use in something else\n",
    "vectors_for_training = np.array(df['tfidf'].tolist()) \n",
    "X_train, y_train, X_test, y_test = train_test_split(vectors_for_training, data['category'].tolist())\n",
    "\n",
    "nb_classifier = MultinomialNB()\n",
    "nb_classifier.fit(X_train, y_train)\n",
    "nb_predictions = nb_classifier.predict(df.tfidf.tolist())\n",
    "                   "
   ]
  },
  {
   "cell_type": "code",
   "execution_count": null,
   "id": "ed92cc15",
   "metadata": {
    "scrolled": true
   },
   "outputs": [],
   "source": [
    "#Counts per category for brand text (post prediction)\n",
    "data['mdm_brand_text'].value_counts()"
   ]
  },
  {
   "cell_type": "code",
   "execution_count": null,
   "id": "50c6e524",
   "metadata": {},
   "outputs": [],
   "source": [
    "#Extract first word from model text (post prediction) to make model text more meaningful\n",
    "data['make'] = data['mdm_model_text'].str.split(' ').str[0]\n",
    "data"
   ]
  },
  {
   "cell_type": "code",
   "execution_count": null,
   "id": "28bc6754",
   "metadata": {},
   "outputs": [],
   "source": [
    "#Check value counts of this new column\n",
    "data['make'].value_counts().head(27)"
   ]
  },
  {
   "cell_type": "code",
   "execution_count": null,
   "id": "980f7d3f",
   "metadata": {},
   "outputs": [],
   "source": [
    "data['main_text'] = data['main_text'].astype(str)"
   ]
  },
  {
   "cell_type": "code",
   "execution_count": null,
   "id": "31b76878",
   "metadata": {},
   "outputs": [],
   "source": [
    "#Use categories from brand (20 or above) and model (30 0r above) text to pull out meaningful data from main text column (pre prediction). Create new \"brand_model\" column.\n",
    "data.loc[data['main_text'].str.contains('ESSILOR'), 'brand_model'] = 'ESSILOR' \n",
    "data.loc[data['main_text'].str.contains('HOYA'), 'brand_model'] = 'HOYA'\n",
    "data.loc[data['main_text'].str.contains('ZEISS'), 'brand_model'] = 'ZEISS'\n",
    "data.loc[data['main_text'].str.contains('INDO'), 'brand_model'] = 'INDO'\n",
    "data.loc[data['main_text'].str.contains('RODENSTOCK'), 'brand_model'] = 'RODENSTOCK'\n",
    "data.loc[data['main_text'].str.contains('SYNCHRONY'), 'brand_model'] = 'SYNCHRONY'\n",
    "data.loc[data['main_text'].str.contains('RUPP & HUBRACH'), 'brand_model'] = 'RUPP & HUBRACH'\n",
    "data.loc[data['main_text'].str.contains('MAILSHOP'), 'brand_model'] = 'MAILSHOP'\n",
    "data.loc[data['main_text'].str.contains('PRATS'), 'brand_model'] = 'PRATS' \n",
    "data.loc[data['main_text'].str.contains('SHAMIR'), 'brand_model'] = 'SHAMIR' \n",
    "data.loc[data['main_text'].str.contains('MEDICAL VISION '), 'brand_model'] = 'MEDICAL VISION ' \n",
    "data.loc[data['main_text'].str.contains('NIKA'), 'brand_model'] = 'NIKA'  \n",
    "\n",
    "\n",
    "data.loc[data['main_text'].str.contains('VARILUX'), 'brand_model'] = 'VARILUX' \n",
    "data.loc[data['main_text'].str.contains('ORMIX'), 'brand_model'] = 'ORMIX' \n",
    "data.loc[data['main_text'].str.contains('PROGRESSIVE'), 'brand_model'] = 'PROGRESSIVE' \n",
    "data.loc[data['main_text'].str.contains('HOYALUX'), 'brand_model'] = 'HOYALUX' \n",
    "data.loc[data['main_text'].str.contains('MONOFOCAL'), 'brand_model'] = 'MONOFOCAL' \n",
    "data.loc[data['main_text'].str.contains('HILUX'), 'brand_model'] = 'HILUX' \n",
    "data.loc[data['main_text'].str.contains('INDOSOL'), 'brand_model'] = 'INDOSOL' \n",
    "data.loc[data['main_text'].str.contains('EYEZEN'), 'brand_model'] = 'EYEZEN' \n",
    "data.loc[data['main_text'].str.contains('IMPRESSION'), 'brand_model'] = 'IMPRESSION' \n",
    "data.loc[data['main_text'].str.contains('ORG'), 'brand_model'] = 'ORG' \n",
    "data.loc[data['main_text'].str.contains('HELLAPLAST'), 'brand_model'] = 'HELLAPLAST' \n",
    "data.loc[data['main_text'].str.contains('SMILE'), 'brand_model'] = 'SMILE' \n",
    "data.loc[data['main_text'].str.contains('MAXXEE'), 'brand_model'] = 'MAXXEE' \n",
    "data.loc[data['main_text'].str.contains('IDEAL'), 'brand_model'] = 'IDEAL' \n",
    "data.loc[data['main_text'].str.contains('ACTIVA'), 'brand_model'] = 'ACTIVA' \n",
    "data.loc[data['main_text'].str.contains('NULUX'), 'brand_model'] = 'NULUX'\n",
    "data.loc[data['main_text'].str.contains('BALANSIS'), 'brand_model'] = 'BALANSIS' \n",
    "data.loc[data['main_text'].str.contains('AIRWEAR'), 'brand_model'] = 'AIRWEAR' \n",
    "data.loc[data['main_text'].str.contains('NEW'), 'brand_model'] = 'NEW' \n",
    "data.loc[data['main_text'].str.contains('L4F'), 'brand_model'] = 'L4F' \n",
    "data.loc[data['main_text'].str.contains('MULTIGRESSIV'), 'brand_model'] = 'MULTIGRESSIV'\n",
    "data.loc[data['main_text'].str.contains('PROGRESSIV '), 'brand_model'] = 'PROGRESSIV ' \n",
    "data.loc[data['main_text'].str.contains('ORMA'), 'brand_model'] = 'ORMA' \n",
    "data.loc[data['main_text'].str.contains('OR'), 'brand_model'] = 'OR'\n",
    "data.loc[data['main_text'].str.contains('UNIFOCAL'), 'brand_model'] = 'UNIFOCAL'\n",
    "data"
   ]
  },
  {
   "cell_type": "code",
   "execution_count": null,
   "id": "4bc48cf6",
   "metadata": {},
   "outputs": [],
   "source": [
    "data['brand_model'].count()"
   ]
  },
  {
   "cell_type": "code",
   "execution_count": null,
   "id": "b9fa9d0a",
   "metadata": {},
   "outputs": [],
   "source": [
    "data.dtypes"
   ]
  },
  {
   "cell_type": "code",
   "execution_count": null,
   "id": "3e19dc13",
   "metadata": {},
   "outputs": [],
   "source": [
    "###### Check value counts of retailer product group (pre prediction) column\n",
    "data['retailer_pg'].value_counts().head(20)"
   ]
  },
  {
   "cell_type": "code",
   "execution_count": null,
   "id": "f6a31c4d",
   "metadata": {},
   "outputs": [],
   "source": [
    "#Extract common words from retailer_pg column to group categories together and make data more meaningful\n",
    "data.loc[data['retailer_pg'].str.contains('GL'), 'product_group'] = 'GLA' \n",
    "data.loc[data['retailer_pg'].str.contains('CRISTALES'), 'product_group'] = 'CRISTALES' \n",
    "data.loc[data['retailer_pg'].str.contains('OFTALMICAS'), 'product_group'] = 'OFTALMICAS'\n",
    "data.loc[data['retailer_pg'].str.contains('PROGRESIV'), 'product_group'] = 'PROGRESIVA' \n",
    "data.loc[data['retailer_pg'].str.contains('MONOFOCAL'), 'product_group'] = 'MONOFOCAL'\n",
    "data.loc[data['retailer_pg'].str.contains('VIDRES'), 'product_group'] = 'VIDRES' \n",
    "data.loc[data['retailer_pg'].str.contains('BIFOCAL'), 'product_group'] = 'BIFOCAL' \n",
    "data\n"
   ]
  },
  {
   "cell_type": "code",
   "execution_count": null,
   "id": "2b6459fc",
   "metadata": {},
   "outputs": [],
   "source": [
    "data.info()"
   ]
  },
  {
   "cell_type": "code",
   "execution_count": null,
   "id": "c6160b05",
   "metadata": {},
   "outputs": [],
   "source": [
    "data.isna().sum()"
   ]
  },
  {
   "cell_type": "code",
   "execution_count": null,
   "id": "c067b9d4",
   "metadata": {},
   "outputs": [],
   "source": [
    "#Remove all rows with at least one null value\n",
    "data.dropna(inplace=True)\n",
    "data.isnull().sum()"
   ]
  },
  {
   "cell_type": "code",
   "execution_count": null,
   "id": "981c00df",
   "metadata": {},
   "outputs": [],
   "source": [
    "#Denote country name into numerical categories\n",
    "from sklearn.preprocessing import LabelEncoder\n",
    "l = LabelEncoder()\n",
    "categorical_col = ['country_name']\n",
    "for col in categorical_col:\n",
    "    data[col] = l.fit_transform(data[col])\n",
    "data.head()"
   ]
  },
  {
   "cell_type": "code",
   "execution_count": null,
   "id": "9a3306dd",
   "metadata": {},
   "outputs": [],
   "source": [
    "#Split dataframe into countries\n",
    "data_germany = data[data['country_name'] == 0]\n",
    "data_spain = data[data['country_name'] == 1]\n",
    "data_spain.info()"
   ]
  },
  {
   "cell_type": "code",
   "execution_count": null,
   "id": "1cb6b551",
   "metadata": {},
   "outputs": [],
   "source": [
    "#Check item_id counts for Spain only\n",
    "item_id_count = data_spain['item_id'].value_counts()\n",
    "item_id_count"
   ]
  },
  {
   "cell_type": "code",
   "execution_count": null,
   "id": "64c38e10",
   "metadata": {},
   "outputs": [],
   "source": [
    "data_germany.info()"
   ]
  },
  {
   "cell_type": "code",
   "execution_count": null,
   "id": "28442058",
   "metadata": {},
   "outputs": [],
   "source": [
    "#Check brand model counts within Germany\n",
    "data_germany['brand_model'].value_counts()"
   ]
  },
  {
   "cell_type": "code",
   "execution_count": null,
   "id": "4df41223",
   "metadata": {},
   "outputs": [],
   "source": [
    "#Check product group counts within Germany - Only 1\n",
    "data_germany['product_group'].value_counts()"
   ]
  },
  {
   "cell_type": "code",
   "execution_count": null,
   "id": "05cc23aa",
   "metadata": {},
   "outputs": [],
   "source": [
    "data_spain.info()"
   ]
  },
  {
   "cell_type": "code",
   "execution_count": null,
   "id": "28c2964e",
   "metadata": {},
   "outputs": [],
   "source": [
    "#Remove all rows with at least one null value\n",
    "data_spain.dropna(inplace=True)\n",
    "data_spain.isnull().sum()"
   ]
  },
  {
   "cell_type": "code",
   "execution_count": null,
   "id": "e0ba6f39",
   "metadata": {},
   "outputs": [],
   "source": [
    "data_spain.info()"
   ]
  },
  {
   "cell_type": "code",
   "execution_count": null,
   "id": "1c22807d",
   "metadata": {},
   "outputs": [],
   "source": [
    "#Check brand model counts within Spain\n",
    "data_spain['brand_model'].value_counts()"
   ]
  },
  {
   "cell_type": "code",
   "execution_count": null,
   "id": "99978b43",
   "metadata": {},
   "outputs": [],
   "source": [
    "#Check product group counts within Spain - more meaningful\n",
    "data_spain['product_group'].value_counts()"
   ]
  },
  {
   "cell_type": "code",
   "execution_count": null,
   "id": "0f2d7b57",
   "metadata": {},
   "outputs": [],
   "source": [
    "#Plot product group counts within Spain\n",
    "product_group_count = data_spain['product_group'].value_counts()\n",
    "\n",
    "product_group_freq = sns.set(style=\"darkgrid\", font_scale = 0.7)\n",
    "sns.barplot(product_group_count.index, product_group_count.values, alpha=0.9)\n",
    "plt.title('Frequency Distribution of Product Groups')\n",
    "plt.ylabel('Frequency', fontsize=12)\n",
    "plt.xlabel('product_group', fontsize=12)\n",
    "plt.show()  "
   ]
  },
  {
   "cell_type": "code",
   "execution_count": null,
   "id": "9697234c",
   "metadata": {},
   "outputs": [],
   "source": [
    "#Create numerical values for model\n",
    "categorical_col = ['item_id']\n",
    "for col in categorical_col:\n",
    "    data_spain[col] = l.fit_transform(data_spain[col])"
   ]
  },
  {
   "cell_type": "code",
   "execution_count": null,
   "id": "4eacb052",
   "metadata": {},
   "outputs": [],
   "source": [
    "#Create numerical values for model\n",
    "categorical_col = ['brand_model']\n",
    "for col in categorical_col:\n",
    "    data_spain[col] = l.fit_transform(data_spain[col])\n"
   ]
  },
  {
   "cell_type": "code",
   "execution_count": 3344,
   "id": "71a7b626",
   "metadata": {},
   "outputs": [
    {
     "name": "stderr",
     "output_type": "stream",
     "text": [
      "C:\\Users\\gog10\\AppData\\Local\\Temp/ipykernel_23504/2210986162.py:4: SettingWithCopyWarning: \n",
      "A value is trying to be set on a copy of a slice from a DataFrame.\n",
      "Try using .loc[row_indexer,col_indexer] = value instead\n",
      "\n",
      "See the caveats in the documentation: https://pandas.pydata.org/pandas-docs/stable/user_guide/indexing.html#returning-a-view-versus-a-copy\n",
      "  data_spain[col] = l.fit_transform(data_spain[col])\n"
     ]
    },
    {
     "data": {
      "text/html": [
       "<div>\n",
       "<style scoped>\n",
       "    .dataframe tbody tr th:only-of-type {\n",
       "        vertical-align: middle;\n",
       "    }\n",
       "\n",
       "    .dataframe tbody tr th {\n",
       "        vertical-align: top;\n",
       "    }\n",
       "\n",
       "    .dataframe thead th {\n",
       "        text-align: right;\n",
       "    }\n",
       "</style>\n",
       "<table border=\"1\" class=\"dataframe\">\n",
       "  <thead>\n",
       "    <tr style=\"text-align: right;\">\n",
       "      <th></th>\n",
       "      <th>item_id</th>\n",
       "      <th>main_text</th>\n",
       "      <th>country_name</th>\n",
       "      <th>retailer_pg</th>\n",
       "      <th>mdm_brand_text</th>\n",
       "      <th>mdm_model_text</th>\n",
       "      <th>make</th>\n",
       "      <th>brand_model</th>\n",
       "      <th>product_group</th>\n",
       "    </tr>\n",
       "  </thead>\n",
       "  <tbody>\n",
       "    <tr>\n",
       "      <th>5</th>\n",
       "      <td>52</td>\n",
       "      <td>ESS ILIKIA XTRA FIT ORMIX 16</td>\n",
       "      <td>1</td>\n",
       "      <td>CRISTALES</td>\n",
       "      <td>ESSILOR</td>\n",
       "      <td>VARILUX ILIKIA XTRA ORMIX FORTE UV</td>\n",
       "      <td>VARILUX</td>\n",
       "      <td>12</td>\n",
       "      <td>1</td>\n",
       "    </tr>\n",
       "    <tr>\n",
       "      <th>6</th>\n",
       "      <td>52</td>\n",
       "      <td>ESS ILIKIA XTRA FIT ORMIX 16</td>\n",
       "      <td>1</td>\n",
       "      <td>CRISTALES</td>\n",
       "      <td>ESSILOR</td>\n",
       "      <td>VARILUX ILIKIA XTRA ORMIX FORTE UV</td>\n",
       "      <td>VARILUX</td>\n",
       "      <td>12</td>\n",
       "      <td>1</td>\n",
       "    </tr>\n",
       "    <tr>\n",
       "      <th>7</th>\n",
       "      <td>103</td>\n",
       "      <td>BALANSIS 1.60 (RX)</td>\n",
       "      <td>1</td>\n",
       "      <td>CRISTALES</td>\n",
       "      <td>HOYA</td>\n",
       "      <td>BALANSIS 1.6 HV</td>\n",
       "      <td>BALANSIS</td>\n",
       "      <td>2</td>\n",
       "      <td>1</td>\n",
       "    </tr>\n",
       "    <tr>\n",
       "      <th>8</th>\n",
       "      <td>103</td>\n",
       "      <td>BALANSIS 1.60 (RX)</td>\n",
       "      <td>1</td>\n",
       "      <td>CRISTALES</td>\n",
       "      <td>HOYA</td>\n",
       "      <td>BALANSIS 1.6 HV</td>\n",
       "      <td>BALANSIS</td>\n",
       "      <td>2</td>\n",
       "      <td>1</td>\n",
       "    </tr>\n",
       "    <tr>\n",
       "      <th>9</th>\n",
       "      <td>96</td>\n",
       "      <td>CRISTALES ID1.60LIFESTL3URBAN(RX)/PROGRESIVOS/...</td>\n",
       "      <td>1</td>\n",
       "      <td>LENTES OFTALMICAS</td>\n",
       "      <td>HOYA</td>\n",
       "      <td>HOYALUX ID LIFESTYLE 3-I HVLL</td>\n",
       "      <td>HOYALUX</td>\n",
       "      <td>12</td>\n",
       "      <td>3</td>\n",
       "    </tr>\n",
       "  </tbody>\n",
       "</table>\n",
       "</div>"
      ],
      "text/plain": [
       "   item_id                                          main_text  country_name  \\\n",
       "5       52                       ESS ILIKIA XTRA FIT ORMIX 16             1   \n",
       "6       52                       ESS ILIKIA XTRA FIT ORMIX 16             1   \n",
       "7      103                                 BALANSIS 1.60 (RX)             1   \n",
       "8      103                                 BALANSIS 1.60 (RX)             1   \n",
       "9       96  CRISTALES ID1.60LIFESTL3URBAN(RX)/PROGRESIVOS/...             1   \n",
       "\n",
       "         retailer_pg mdm_brand_text                      mdm_model_text  \\\n",
       "5          CRISTALES        ESSILOR  VARILUX ILIKIA XTRA ORMIX FORTE UV   \n",
       "6          CRISTALES        ESSILOR  VARILUX ILIKIA XTRA ORMIX FORTE UV   \n",
       "7          CRISTALES           HOYA                     BALANSIS 1.6 HV   \n",
       "8          CRISTALES           HOYA                     BALANSIS 1.6 HV   \n",
       "9  LENTES OFTALMICAS           HOYA       HOYALUX ID LIFESTYLE 3-I HVLL   \n",
       "\n",
       "       make  brand_model  product_group  \n",
       "5   VARILUX           12              1  \n",
       "6   VARILUX           12              1  \n",
       "7  BALANSIS            2              1  \n",
       "8  BALANSIS            2              1  \n",
       "9   HOYALUX           12              3  "
      ]
     },
     "execution_count": 3344,
     "metadata": {},
     "output_type": "execute_result"
    }
   ],
   "source": [
    "#Create numerical values for model\n",
    "categorical_col = ['product_group']\n",
    "for col in categorical_col:\n",
    "    data_spain[col] = l.fit_transform(data_spain[col])\n",
    "data_spain.head()"
   ]
  },
  {
   "cell_type": "code",
   "execution_count": 3345,
   "id": "e94dedd0",
   "metadata": {},
   "outputs": [
    {
     "name": "stderr",
     "output_type": "stream",
     "text": [
      "C:\\Users\\gog10\\anaconda3\\lib\\site-packages\\pandas\\core\\frame.py:4906: SettingWithCopyWarning: \n",
      "A value is trying to be set on a copy of a slice from a DataFrame\n",
      "\n",
      "See the caveats in the documentation: https://pandas.pydata.org/pandas-docs/stable/user_guide/indexing.html#returning-a-view-versus-a-copy\n",
      "  return super().drop(\n"
     ]
    },
    {
     "data": {
      "text/html": [
       "<div>\n",
       "<style scoped>\n",
       "    .dataframe tbody tr th:only-of-type {\n",
       "        vertical-align: middle;\n",
       "    }\n",
       "\n",
       "    .dataframe tbody tr th {\n",
       "        vertical-align: top;\n",
       "    }\n",
       "\n",
       "    .dataframe thead th {\n",
       "        text-align: right;\n",
       "    }\n",
       "</style>\n",
       "<table border=\"1\" class=\"dataframe\">\n",
       "  <thead>\n",
       "    <tr style=\"text-align: right;\">\n",
       "      <th></th>\n",
       "      <th>item_id</th>\n",
       "      <th>brand_model</th>\n",
       "      <th>product_group</th>\n",
       "    </tr>\n",
       "  </thead>\n",
       "  <tbody>\n",
       "    <tr>\n",
       "      <th>5</th>\n",
       "      <td>52</td>\n",
       "      <td>12</td>\n",
       "      <td>1</td>\n",
       "    </tr>\n",
       "    <tr>\n",
       "      <th>6</th>\n",
       "      <td>52</td>\n",
       "      <td>12</td>\n",
       "      <td>1</td>\n",
       "    </tr>\n",
       "    <tr>\n",
       "      <th>7</th>\n",
       "      <td>103</td>\n",
       "      <td>2</td>\n",
       "      <td>1</td>\n",
       "    </tr>\n",
       "    <tr>\n",
       "      <th>8</th>\n",
       "      <td>103</td>\n",
       "      <td>2</td>\n",
       "      <td>1</td>\n",
       "    </tr>\n",
       "    <tr>\n",
       "      <th>9</th>\n",
       "      <td>96</td>\n",
       "      <td>12</td>\n",
       "      <td>3</td>\n",
       "    </tr>\n",
       "    <tr>\n",
       "      <th>...</th>\n",
       "      <td>...</td>\n",
       "      <td>...</td>\n",
       "      <td>...</td>\n",
       "    </tr>\n",
       "    <tr>\n",
       "      <th>3544</th>\n",
       "      <td>7</td>\n",
       "      <td>12</td>\n",
       "      <td>1</td>\n",
       "    </tr>\n",
       "    <tr>\n",
       "      <th>3545</th>\n",
       "      <td>71</td>\n",
       "      <td>12</td>\n",
       "      <td>1</td>\n",
       "    </tr>\n",
       "    <tr>\n",
       "      <th>3546</th>\n",
       "      <td>68</td>\n",
       "      <td>12</td>\n",
       "      <td>1</td>\n",
       "    </tr>\n",
       "    <tr>\n",
       "      <th>3547</th>\n",
       "      <td>96</td>\n",
       "      <td>12</td>\n",
       "      <td>1</td>\n",
       "    </tr>\n",
       "    <tr>\n",
       "      <th>3548</th>\n",
       "      <td>96</td>\n",
       "      <td>12</td>\n",
       "      <td>1</td>\n",
       "    </tr>\n",
       "  </tbody>\n",
       "</table>\n",
       "<p>1245 rows × 3 columns</p>\n",
       "</div>"
      ],
      "text/plain": [
       "      item_id  brand_model  product_group\n",
       "5          52           12              1\n",
       "6          52           12              1\n",
       "7         103            2              1\n",
       "8         103            2              1\n",
       "9          96           12              3\n",
       "...       ...          ...            ...\n",
       "3544        7           12              1\n",
       "3545       71           12              1\n",
       "3546       68           12              1\n",
       "3547       96           12              1\n",
       "3548       96           12              1\n",
       "\n",
       "[1245 rows x 3 columns]"
      ]
     },
     "execution_count": 3345,
     "metadata": {},
     "output_type": "execute_result"
    }
   ],
   "source": [
    "#Delete columns not needed for model\n",
    "data_spain.drop(['main_text', 'country_name', 'retailer_pg', 'mdm_brand_text', 'mdm_model_text', 'make'], axis = 'columns', inplace=True)\n",
    "data_spain"
   ]
  },
  {
   "cell_type": "code",
   "execution_count": 3346,
   "id": "2b1b989e",
   "metadata": {},
   "outputs": [],
   "source": [
    "#Define X and y values for model\n",
    "X = data_spain.drop('item_id', axis =1)\n",
    "y = data_spain['item_id']"
   ]
  },
  {
   "cell_type": "code",
   "execution_count": 3347,
   "id": "10d0a47b",
   "metadata": {},
   "outputs": [],
   "source": [
    "# Splitting the dataset into training and testing sets\n",
    "X_train, X_test, y_train, y_test = train_test_split(X, y, test_size = 0.3)"
   ]
  },
  {
   "cell_type": "code",
   "execution_count": 3348,
   "id": "2de5835d",
   "metadata": {},
   "outputs": [],
   "source": [
    "# Standarize features\n",
    "scaler = StandardScaler()\n",
    "X_std = scaler.fit_transform(X)"
   ]
  },
  {
   "cell_type": "code",
   "execution_count": 3349,
   "id": "804d84b6",
   "metadata": {},
   "outputs": [],
   "source": [
    "# Create one-vs-rest logistic regression object\n",
    "clf = LogisticRegression(random_state=0, multi_class='ovr')"
   ]
  },
  {
   "cell_type": "code",
   "execution_count": 3350,
   "id": "8ff964e9",
   "metadata": {},
   "outputs": [],
   "source": [
    "# Train model\n",
    "model = clf.fit(X_std, y)"
   ]
  },
  {
   "cell_type": "code",
   "execution_count": 3351,
   "id": "f1874ab1",
   "metadata": {},
   "outputs": [
    {
     "data": {
      "text/plain": [
       "LogisticRegression(multi_class='ovr', random_state=0)"
      ]
     },
     "execution_count": 3351,
     "metadata": {},
     "output_type": "execute_result"
    }
   ],
   "source": [
    "# Fitting the model with training data\n",
    "model.fit(X_train, y_train)"
   ]
  },
  {
   "cell_type": "code",
   "execution_count": 3352,
   "id": "3f41000e",
   "metadata": {},
   "outputs": [],
   "source": [
    "# Making a prediction on the test set\n",
    "prediction = model.predict(X_test)"
   ]
  },
  {
   "cell_type": "code",
   "execution_count": 3353,
   "id": "ed39e365",
   "metadata": {},
   "outputs": [
    {
     "name": "stdout",
     "output_type": "stream",
     "text": [
      "Precision score: 0.25\n",
      "Recall score: 0.25\n",
      "f1 score: 0.25\n"
     ]
    }
   ],
   "source": [
    "precision = precision_score(y_test, prediction, average='micro', zero_division=0)\n",
    "print('Precision score: {0:0.2f}'.format(precision))\n",
    "\n",
    "recall = recall_score(y_test, prediction, average='micro', zero_division=0)\n",
    "print('Recall score: {0:0.2f}'.format(recall))\n",
    "\n",
    "f1 = f1_score(y_test, prediction, average='micro', zero_division=0)\n",
    "print('f1 score: {0:0.2f}'.format(recall))"
   ]
  },
  {
   "cell_type": "code",
   "execution_count": 3354,
   "id": "2fb8f655",
   "metadata": {},
   "outputs": [
    {
     "name": "stderr",
     "output_type": "stream",
     "text": [
      "C:\\Users\\gog10\\AppData\\Local\\Temp/ipykernel_23504/635402056.py:4: SettingWithCopyWarning: \n",
      "A value is trying to be set on a copy of a slice from a DataFrame.\n",
      "Try using .loc[row_indexer,col_indexer] = value instead\n",
      "\n",
      "See the caveats in the documentation: https://pandas.pydata.org/pandas-docs/stable/user_guide/indexing.html#returning-a-view-versus-a-copy\n",
      "  data_germany[col] = l.fit_transform(data_germany[col])\n"
     ]
    }
   ],
   "source": [
    "#Create numerical values for model\n",
    "categorical_col = ['brand_model']\n",
    "for col in categorical_col:\n",
    "    data_germany[col] = l.fit_transform(data_germany[col])"
   ]
  },
  {
   "cell_type": "code",
   "execution_count": 3355,
   "id": "e43b734e",
   "metadata": {},
   "outputs": [
    {
     "name": "stderr",
     "output_type": "stream",
     "text": [
      "C:\\Users\\gog10\\anaconda3\\lib\\site-packages\\pandas\\core\\frame.py:4906: SettingWithCopyWarning: \n",
      "A value is trying to be set on a copy of a slice from a DataFrame\n",
      "\n",
      "See the caveats in the documentation: https://pandas.pydata.org/pandas-docs/stable/user_guide/indexing.html#returning-a-view-versus-a-copy\n",
      "  return super().drop(\n"
     ]
    },
    {
     "data": {
      "text/html": [
       "<div>\n",
       "<style scoped>\n",
       "    .dataframe tbody tr th:only-of-type {\n",
       "        vertical-align: middle;\n",
       "    }\n",
       "\n",
       "    .dataframe tbody tr th {\n",
       "        vertical-align: top;\n",
       "    }\n",
       "\n",
       "    .dataframe thead th {\n",
       "        text-align: right;\n",
       "    }\n",
       "</style>\n",
       "<table border=\"1\" class=\"dataframe\">\n",
       "  <thead>\n",
       "    <tr style=\"text-align: right;\">\n",
       "      <th></th>\n",
       "      <th>item_id</th>\n",
       "      <th>brand_model</th>\n",
       "    </tr>\n",
       "  </thead>\n",
       "  <tbody>\n",
       "    <tr>\n",
       "      <th>412</th>\n",
       "      <td>110711856</td>\n",
       "      <td>6</td>\n",
       "    </tr>\n",
       "    <tr>\n",
       "      <th>444</th>\n",
       "      <td>104139800</td>\n",
       "      <td>2</td>\n",
       "    </tr>\n",
       "    <tr>\n",
       "      <th>446</th>\n",
       "      <td>82319609</td>\n",
       "      <td>7</td>\n",
       "    </tr>\n",
       "    <tr>\n",
       "      <th>461</th>\n",
       "      <td>91685284</td>\n",
       "      <td>6</td>\n",
       "    </tr>\n",
       "    <tr>\n",
       "      <th>482</th>\n",
       "      <td>64840970</td>\n",
       "      <td>4</td>\n",
       "    </tr>\n",
       "    <tr>\n",
       "      <th>...</th>\n",
       "      <td>...</td>\n",
       "      <td>...</td>\n",
       "    </tr>\n",
       "    <tr>\n",
       "      <th>3277</th>\n",
       "      <td>90120905</td>\n",
       "      <td>5</td>\n",
       "    </tr>\n",
       "    <tr>\n",
       "      <th>3278</th>\n",
       "      <td>82319245</td>\n",
       "      <td>7</td>\n",
       "    </tr>\n",
       "    <tr>\n",
       "      <th>3281</th>\n",
       "      <td>82319609</td>\n",
       "      <td>7</td>\n",
       "    </tr>\n",
       "    <tr>\n",
       "      <th>3300</th>\n",
       "      <td>2296911</td>\n",
       "      <td>0</td>\n",
       "    </tr>\n",
       "    <tr>\n",
       "      <th>3301</th>\n",
       "      <td>2296911</td>\n",
       "      <td>0</td>\n",
       "    </tr>\n",
       "  </tbody>\n",
       "</table>\n",
       "<p>188 rows × 2 columns</p>\n",
       "</div>"
      ],
      "text/plain": [
       "        item_id  brand_model\n",
       "412   110711856            6\n",
       "444   104139800            2\n",
       "446    82319609            7\n",
       "461    91685284            6\n",
       "482    64840970            4\n",
       "...         ...          ...\n",
       "3277   90120905            5\n",
       "3278   82319245            7\n",
       "3281   82319609            7\n",
       "3300    2296911            0\n",
       "3301    2296911            0\n",
       "\n",
       "[188 rows x 2 columns]"
      ]
     },
     "execution_count": 3355,
     "metadata": {},
     "output_type": "execute_result"
    }
   ],
   "source": [
    "data_germany.drop(['main_text', 'country_name', 'retailer_pg', 'mdm_brand_text', 'mdm_model_text', 'make', 'product_group'], axis = 'columns', inplace=True)\n",
    "data_germany"
   ]
  },
  {
   "cell_type": "code",
   "execution_count": 3356,
   "id": "e1f35546",
   "metadata": {},
   "outputs": [],
   "source": [
    "X = data_germany.drop('item_id', axis =1)\n",
    "y = data_germany['item_id']\n",
    "\n",
    "# Splitting the dataset into training and testing sets\n",
    "X_train, X_test, y_train, y_test = train_test_split(X, y, test_size = 0.3)"
   ]
  },
  {
   "cell_type": "code",
   "execution_count": 3357,
   "id": "1ad9d1bd",
   "metadata": {},
   "outputs": [],
   "source": [
    "# Standarize features\n",
    "scaler = StandardScaler()\n",
    "X_std = scaler.fit_transform(X)\n",
    "\n",
    "# Create one-vs-rest logistic regression object\n",
    "clf = LogisticRegression(random_state=0, multi_class='ovr')\n",
    "\n",
    "# Train model\n",
    "model = clf.fit(X_std, y)\n",
    "\n",
    "# Fitting the model with training data\n",
    "model.fit(X_train, y_train)\n",
    "\n",
    "# Making a prediction on the test set\n",
    "prediction = model.predict(X_test)"
   ]
  },
  {
   "cell_type": "code",
   "execution_count": 3358,
   "id": "0511fad6",
   "metadata": {},
   "outputs": [
    {
     "name": "stdout",
     "output_type": "stream",
     "text": [
      "Precision score: 0.16\n",
      "Recall score: 0.16\n",
      "f1 score: 0.16\n"
     ]
    }
   ],
   "source": [
    "precision = precision_score(y_test, prediction, average='micro', zero_division=0)\n",
    "print('Precision score: {0:0.2f}'.format(precision))\n",
    "\n",
    "recall = recall_score(y_test, prediction, average='micro', zero_division=0)\n",
    "print('Recall score: {0:0.2f}'.format(recall))\n",
    "\n",
    "f1 = f1_score(y_test, prediction, average='micro', zero_division=0)\n",
    "print('f1 score: {0:0.2f}'.format(recall))"
   ]
  },
  {
   "cell_type": "code",
   "execution_count": 3359,
   "id": "0caeb6a1",
   "metadata": {},
   "outputs": [
    {
     "data": {
      "text/html": [
       "<div>\n",
       "<style scoped>\n",
       "    .dataframe tbody tr th:only-of-type {\n",
       "        vertical-align: middle;\n",
       "    }\n",
       "\n",
       "    .dataframe tbody tr th {\n",
       "        vertical-align: top;\n",
       "    }\n",
       "\n",
       "    .dataframe thead th {\n",
       "        text-align: right;\n",
       "    }\n",
       "</style>\n",
       "<table border=\"1\" class=\"dataframe\">\n",
       "  <thead>\n",
       "    <tr style=\"text-align: right;\">\n",
       "      <th></th>\n",
       "      <th>item_id</th>\n",
       "      <th>main_text</th>\n",
       "      <th>country_name</th>\n",
       "      <th>retailer_pg</th>\n",
       "      <th>mdm_brand_text</th>\n",
       "      <th>mdm_model_text</th>\n",
       "      <th>make</th>\n",
       "      <th>brand_model</th>\n",
       "      <th>product_group</th>\n",
       "    </tr>\n",
       "  </thead>\n",
       "  <tbody>\n",
       "    <tr>\n",
       "      <th>5</th>\n",
       "      <td>101261697</td>\n",
       "      <td>ESS ILIKIA XTRA FIT ORMIX 16</td>\n",
       "      <td>1</td>\n",
       "      <td>CRISTALES</td>\n",
       "      <td>ESSILOR</td>\n",
       "      <td>VARILUX ILIKIA XTRA ORMIX FORTE UV</td>\n",
       "      <td>VARILUX</td>\n",
       "      <td>16</td>\n",
       "      <td>1</td>\n",
       "    </tr>\n",
       "    <tr>\n",
       "      <th>6</th>\n",
       "      <td>101261697</td>\n",
       "      <td>ESS ILIKIA XTRA FIT ORMIX 16</td>\n",
       "      <td>1</td>\n",
       "      <td>CRISTALES</td>\n",
       "      <td>ESSILOR</td>\n",
       "      <td>VARILUX ILIKIA XTRA ORMIX FORTE UV</td>\n",
       "      <td>VARILUX</td>\n",
       "      <td>16</td>\n",
       "      <td>1</td>\n",
       "    </tr>\n",
       "    <tr>\n",
       "      <th>7</th>\n",
       "      <td>140544215</td>\n",
       "      <td>BALANSIS 1.60 (RX)</td>\n",
       "      <td>1</td>\n",
       "      <td>CRISTALES</td>\n",
       "      <td>HOYA</td>\n",
       "      <td>BALANSIS 1.6 HV</td>\n",
       "      <td>BALANSIS</td>\n",
       "      <td>2</td>\n",
       "      <td>1</td>\n",
       "    </tr>\n",
       "    <tr>\n",
       "      <th>8</th>\n",
       "      <td>140544215</td>\n",
       "      <td>BALANSIS 1.60 (RX)</td>\n",
       "      <td>1</td>\n",
       "      <td>CRISTALES</td>\n",
       "      <td>HOYA</td>\n",
       "      <td>BALANSIS 1.6 HV</td>\n",
       "      <td>BALANSIS</td>\n",
       "      <td>2</td>\n",
       "      <td>1</td>\n",
       "    </tr>\n",
       "    <tr>\n",
       "      <th>9</th>\n",
       "      <td>138176095</td>\n",
       "      <td>CRISTALES ID1.60LIFESTL3URBAN(RX)/PROGRESIVOS/...</td>\n",
       "      <td>1</td>\n",
       "      <td>LENTES OFTALMICAS</td>\n",
       "      <td>HOYA</td>\n",
       "      <td>HOYALUX ID LIFESTYLE 3-I HVLL</td>\n",
       "      <td>HOYALUX</td>\n",
       "      <td>16</td>\n",
       "      <td>4</td>\n",
       "    </tr>\n",
       "  </tbody>\n",
       "</table>\n",
       "</div>"
      ],
      "text/plain": [
       "     item_id                                          main_text  country_name  \\\n",
       "5  101261697                       ESS ILIKIA XTRA FIT ORMIX 16             1   \n",
       "6  101261697                       ESS ILIKIA XTRA FIT ORMIX 16             1   \n",
       "7  140544215                                 BALANSIS 1.60 (RX)             1   \n",
       "8  140544215                                 BALANSIS 1.60 (RX)             1   \n",
       "9  138176095  CRISTALES ID1.60LIFESTL3URBAN(RX)/PROGRESIVOS/...             1   \n",
       "\n",
       "         retailer_pg mdm_brand_text                      mdm_model_text  \\\n",
       "5          CRISTALES        ESSILOR  VARILUX ILIKIA XTRA ORMIX FORTE UV   \n",
       "6          CRISTALES        ESSILOR  VARILUX ILIKIA XTRA ORMIX FORTE UV   \n",
       "7          CRISTALES           HOYA                     BALANSIS 1.6 HV   \n",
       "8          CRISTALES           HOYA                     BALANSIS 1.6 HV   \n",
       "9  LENTES OFTALMICAS           HOYA       HOYALUX ID LIFESTYLE 3-I HVLL   \n",
       "\n",
       "       make  brand_model  product_group  \n",
       "5   VARILUX           16              1  \n",
       "6   VARILUX           16              1  \n",
       "7  BALANSIS            2              1  \n",
       "8  BALANSIS            2              1  \n",
       "9   HOYALUX           16              4  "
      ]
     },
     "execution_count": 3359,
     "metadata": {},
     "output_type": "execute_result"
    }
   ],
   "source": [
    "#Create numerical values for model\n",
    "categorical_col = ['brand_model']\n",
    "for col in categorical_col:\n",
    "    data[col] = l.fit_transform(data[col])\n",
    "\n",
    "categorical_col = ['product_group']\n",
    "for col in categorical_col:\n",
    "    data[col] = l.fit_transform(data[col])\n",
    "data.head()"
   ]
  },
  {
   "cell_type": "code",
   "execution_count": 3360,
   "id": "d4462c7f",
   "metadata": {},
   "outputs": [
    {
     "data": {
      "text/html": [
       "<div>\n",
       "<style scoped>\n",
       "    .dataframe tbody tr th:only-of-type {\n",
       "        vertical-align: middle;\n",
       "    }\n",
       "\n",
       "    .dataframe tbody tr th {\n",
       "        vertical-align: top;\n",
       "    }\n",
       "\n",
       "    .dataframe thead th {\n",
       "        text-align: right;\n",
       "    }\n",
       "</style>\n",
       "<table border=\"1\" class=\"dataframe\">\n",
       "  <thead>\n",
       "    <tr style=\"text-align: right;\">\n",
       "      <th></th>\n",
       "      <th>item_id</th>\n",
       "      <th>brand_model</th>\n",
       "      <th>product_group</th>\n",
       "    </tr>\n",
       "  </thead>\n",
       "  <tbody>\n",
       "    <tr>\n",
       "      <th>5</th>\n",
       "      <td>101261697</td>\n",
       "      <td>16</td>\n",
       "      <td>1</td>\n",
       "    </tr>\n",
       "    <tr>\n",
       "      <th>6</th>\n",
       "      <td>101261697</td>\n",
       "      <td>16</td>\n",
       "      <td>1</td>\n",
       "    </tr>\n",
       "    <tr>\n",
       "      <th>7</th>\n",
       "      <td>140544215</td>\n",
       "      <td>2</td>\n",
       "      <td>1</td>\n",
       "    </tr>\n",
       "    <tr>\n",
       "      <th>8</th>\n",
       "      <td>140544215</td>\n",
       "      <td>2</td>\n",
       "      <td>1</td>\n",
       "    </tr>\n",
       "    <tr>\n",
       "      <th>9</th>\n",
       "      <td>138176095</td>\n",
       "      <td>16</td>\n",
       "      <td>4</td>\n",
       "    </tr>\n",
       "    <tr>\n",
       "      <th>...</th>\n",
       "      <td>...</td>\n",
       "      <td>...</td>\n",
       "      <td>...</td>\n",
       "    </tr>\n",
       "    <tr>\n",
       "      <th>3544</th>\n",
       "      <td>25278162</td>\n",
       "      <td>16</td>\n",
       "      <td>1</td>\n",
       "    </tr>\n",
       "    <tr>\n",
       "      <th>3545</th>\n",
       "      <td>115519055</td>\n",
       "      <td>16</td>\n",
       "      <td>1</td>\n",
       "    </tr>\n",
       "    <tr>\n",
       "      <th>3546</th>\n",
       "      <td>112904161</td>\n",
       "      <td>16</td>\n",
       "      <td>1</td>\n",
       "    </tr>\n",
       "    <tr>\n",
       "      <th>3547</th>\n",
       "      <td>138176095</td>\n",
       "      <td>16</td>\n",
       "      <td>1</td>\n",
       "    </tr>\n",
       "    <tr>\n",
       "      <th>3548</th>\n",
       "      <td>138176095</td>\n",
       "      <td>16</td>\n",
       "      <td>1</td>\n",
       "    </tr>\n",
       "  </tbody>\n",
       "</table>\n",
       "<p>1433 rows × 3 columns</p>\n",
       "</div>"
      ],
      "text/plain": [
       "        item_id  brand_model  product_group\n",
       "5     101261697           16              1\n",
       "6     101261697           16              1\n",
       "7     140544215            2              1\n",
       "8     140544215            2              1\n",
       "9     138176095           16              4\n",
       "...         ...          ...            ...\n",
       "3544   25278162           16              1\n",
       "3545  115519055           16              1\n",
       "3546  112904161           16              1\n",
       "3547  138176095           16              1\n",
       "3548  138176095           16              1\n",
       "\n",
       "[1433 rows x 3 columns]"
      ]
     },
     "execution_count": 3360,
     "metadata": {},
     "output_type": "execute_result"
    }
   ],
   "source": [
    "data.drop(['country_name','main_text', 'retailer_pg', 'mdm_brand_text', 'mdm_model_text', 'make'], axis = 'columns', inplace=True)\n",
    "data"
   ]
  },
  {
   "cell_type": "code",
   "execution_count": 3361,
   "id": "ae963dba",
   "metadata": {},
   "outputs": [],
   "source": [
    "X = data.drop('item_id', axis =1)\n",
    "y = data['item_id']\n",
    "X_train, X_test, y_train, y_test = train_test_split(X, y, test_size=0.3)"
   ]
  },
  {
   "cell_type": "code",
   "execution_count": 3362,
   "id": "be29836d",
   "metadata": {},
   "outputs": [],
   "source": [
    "# Standarize features\n",
    "scaler = StandardScaler()\n",
    "X_std = scaler.fit_transform(X)\n",
    "\n",
    "# Create one-vs-rest logistic regression object\n",
    "clf = LogisticRegression(random_state=0, multi_class='ovr')\n",
    "\n",
    "# Train model\n",
    "model = clf.fit(X_std, y)\n",
    "\n",
    "# Fitting the model with training data\n",
    "model.fit(X_train, y_train)\n",
    "\n",
    "# Making a prediction on the test set\n",
    "prediction = model.predict(X_test)"
   ]
  },
  {
   "cell_type": "code",
   "execution_count": 3363,
   "id": "8988423b",
   "metadata": {},
   "outputs": [
    {
     "name": "stdout",
     "output_type": "stream",
     "text": [
      "Precision score: 0.24\n",
      "Recall score: 0.24\n",
      "f1 score: 0.24\n"
     ]
    }
   ],
   "source": [
    "precision = precision_score(y_test, prediction, average='micro', zero_division=0)\n",
    "print('Precision score: {0:0.2f}'.format(precision))\n",
    "\n",
    "recall = recall_score(y_test, prediction, average='micro', zero_division=0)\n",
    "print('Recall score: {0:0.2f}'.format(recall))\n",
    "\n",
    "f1 = f1_score(y_test, prediction, average='micro', zero_division=0)\n",
    "print('f1 score: {0:0.2f}'.format(recall))"
   ]
  },
  {
   "cell_type": "code",
   "execution_count": 3364,
   "id": "e56dedf7",
   "metadata": {},
   "outputs": [],
   "source": [
    "from sklearn.naive_bayes import GaussianNB, CategoricalNB\n",
    "from sklearn.preprocessing import OrdinalEncoder, LabelEncoder\n",
    "from sklearn.metrics import accuracy_score, confusion_matrix, roc_curve, roc_auc_score, recall_score, precision_score\n",
    "from sklearn.metrics import f1_score, classification_report\n",
    "from sklearn.model_selection import train_test_split\n",
    "from statsmodels.stats.outliers_influence import variance_inflation_factor\n",
    "from collections import Counter\n",
    "sns.set()\n"
   ]
  },
  {
   "cell_type": "code",
   "execution_count": 3365,
   "id": "a43f48c9",
   "metadata": {},
   "outputs": [],
   "source": [
    "data_spain_bayes = data_spain[['item_id', 'product_group', 'brand_model']]"
   ]
  },
  {
   "cell_type": "code",
   "execution_count": 3366,
   "id": "490948c3",
   "metadata": {},
   "outputs": [
    {
     "data": {
      "text/plain": [
       "array([[ 52.,   1.,  12.],\n",
       "       [ 52.,   1.,  12.],\n",
       "       [103.,   1.,   2.],\n",
       "       ...,\n",
       "       [ 68.,   1.,  12.],\n",
       "       [ 96.,   1.,  12.],\n",
       "       [ 96.,   1.,  12.]])"
      ]
     },
     "execution_count": 3366,
     "metadata": {},
     "output_type": "execute_result"
    }
   ],
   "source": [
    "encoder = OrdinalEncoder()\n",
    "features = data_spain_bayes.columns.tolist()\n",
    "data_encoded = encoder.fit_transform(data_spain_bayes[features])\n",
    "data_spain_bayes_encoded = pd.DataFrame(data_encoded, columns=features)\n",
    "data_encoded\n"
   ]
  },
  {
   "cell_type": "code",
   "execution_count": 3367,
   "id": "e8607413",
   "metadata": {},
   "outputs": [
    {
     "data": {
      "text/plain": [
       "array([ 52,  52, 103, ...,  68,  96,  96], dtype=int64)"
      ]
     },
     "execution_count": 3367,
     "metadata": {},
     "output_type": "execute_result"
    }
   ],
   "source": [
    "encoder = LabelEncoder()\n",
    "target_encoded = encoder.fit_transform(data_spain_bayes['item_id'])\n",
    "data_spain_bayes_encoded['item_id'] = target_encoded\n",
    "encoder.inverse_transform(target_encoded)\n"
   ]
  },
  {
   "cell_type": "code",
   "execution_count": 3368,
   "id": "83711ce8",
   "metadata": {},
   "outputs": [
    {
     "data": {
      "text/html": [
       "<div>\n",
       "<style scoped>\n",
       "    .dataframe tbody tr th:only-of-type {\n",
       "        vertical-align: middle;\n",
       "    }\n",
       "\n",
       "    .dataframe tbody tr th {\n",
       "        vertical-align: top;\n",
       "    }\n",
       "\n",
       "    .dataframe thead th {\n",
       "        text-align: right;\n",
       "    }\n",
       "</style>\n",
       "<table border=\"1\" class=\"dataframe\">\n",
       "  <thead>\n",
       "    <tr style=\"text-align: right;\">\n",
       "      <th></th>\n",
       "      <th>VIF</th>\n",
       "      <th>features</th>\n",
       "    </tr>\n",
       "  </thead>\n",
       "  <tbody>\n",
       "    <tr>\n",
       "      <th>0</th>\n",
       "      <td>3.525979</td>\n",
       "      <td>item_id</td>\n",
       "    </tr>\n",
       "    <tr>\n",
       "      <th>1</th>\n",
       "      <td>3.330794</td>\n",
       "      <td>product_group</td>\n",
       "    </tr>\n",
       "    <tr>\n",
       "      <th>2</th>\n",
       "      <td>4.976472</td>\n",
       "      <td>brand_model</td>\n",
       "    </tr>\n",
       "  </tbody>\n",
       "</table>\n",
       "</div>"
      ],
      "text/plain": [
       "        VIF       features\n",
       "0  3.525979        item_id\n",
       "1  3.330794  product_group\n",
       "2  4.976472    brand_model"
      ]
     },
     "execution_count": 3368,
     "metadata": {},
     "output_type": "execute_result"
    }
   ],
   "source": [
    "vif = pd.DataFrame()\n",
    "vif[\"VIF\"] = [variance_inflation_factor(data_spain_bayes_encoded.values, i) for i in range(len(features))]\n",
    "vif[\"features\"] = features\n",
    "vif\n"
   ]
  },
  {
   "cell_type": "code",
   "execution_count": 3369,
   "id": "4b8ddcc8",
   "metadata": {},
   "outputs": [],
   "source": [
    "X_train, X_test, y_train, y_test = train_test_split(data_spain_bayes_encoded.drop('item_id', axis=1), data_spain_bayes_encoded['item_id'], test_size=0.3, random_state=143)"
   ]
  },
  {
   "cell_type": "code",
   "execution_count": 3370,
   "id": "af613253",
   "metadata": {},
   "outputs": [
    {
     "data": {
      "text/plain": [
       "CategoricalNB()"
      ]
     },
     "execution_count": 3370,
     "metadata": {},
     "output_type": "execute_result"
    }
   ],
   "source": [
    "cnb = CategoricalNB()\n",
    "cnb.fit(X_train, y_train)\n"
   ]
  },
  {
   "cell_type": "code",
   "execution_count": 3371,
   "id": "56c11236",
   "metadata": {},
   "outputs": [],
   "source": [
    "y_pred_cnb = cnb.predict(X_test)\n",
    "y_prob_pred_cnb = cnb.predict_proba(X_test)\n",
    "count_misclassified = (y_test != y_pred_cnb).sum()\n"
   ]
  },
  {
   "cell_type": "code",
   "execution_count": 3372,
   "id": "1f73ff4b",
   "metadata": {},
   "outputs": [
    {
     "name": "stdout",
     "output_type": "stream",
     "text": [
      "CategoricalNB\n",
      "==============================\n",
      "Misclassified samples ; 256\n",
      "Accuracy: 0.32\n"
     ]
    }
   ],
   "source": [
    "print(\"CategoricalNB\")\n",
    "print(\"=\" * 30)\n",
    "print('Misclassified samples ; {}'.format(count_misclassified))\n",
    "accuracy = accuracy_score(y_test, y_pred_cnb)\n",
    "print('Accuracy: {:.2f}'.format(accuracy))"
   ]
  },
  {
   "cell_type": "code",
   "execution_count": 3373,
   "id": "329bcbc3",
   "metadata": {},
   "outputs": [
    {
     "name": "stdout",
     "output_type": "stream",
     "text": [
      "Recall score :  0.3155080213903743\n",
      "Precision score :  0.3155080213903743\n",
      "F1 score :  0.3155080213903743\n"
     ]
    }
   ],
   "source": [
    "print(\"Recall score : \", recall_score(y_test, y_pred_cnb, average='micro'))\n",
    "print(\"Precision score : \", precision_score(y_test, y_pred_cnb, average = 'micro'))\n",
    "print(\"F1 score : \", f1_score(y_test, y_pred_cnb, average='micro'))"
   ]
  },
  {
   "cell_type": "code",
   "execution_count": 3374,
   "id": "d532e945",
   "metadata": {},
   "outputs": [
    {
     "name": "stdout",
     "output_type": "stream",
     "text": [
      "              precision    recall  f1-score   support\n",
      "\n",
      "           2       0.00      0.00      0.00         3\n",
      "           3       0.00      0.00      0.00         3\n",
      "           4       0.00      0.00      0.00         5\n",
      "           5       0.00      0.00      0.00         2\n",
      "           6       0.00      0.00      0.00         4\n",
      "           7       0.00      0.00      0.00         1\n",
      "           8       0.00      0.00      0.00         2\n",
      "           9       0.00      0.00      0.00         1\n",
      "          10       0.00      0.00      0.00         3\n",
      "          11       0.00      0.00      0.00         3\n",
      "          12       0.00      0.00      0.00         1\n",
      "          13       0.00      0.00      0.00         1\n",
      "          14       0.00      0.00      0.00         2\n",
      "          15       0.00      0.00      0.00         3\n",
      "          17       0.00      0.00      0.00         5\n",
      "          18       0.00      0.00      0.00         8\n",
      "          20       0.00      0.00      0.00         4\n",
      "          21       0.00      0.00      0.00         2\n",
      "          22       0.00      0.00      0.00         1\n",
      "          25       0.00      0.00      0.00         8\n",
      "          26       0.00      0.00      0.00         2\n",
      "          27       1.00      0.50      0.67         4\n",
      "          28       0.00      0.00      0.00         2\n",
      "          29       0.00      0.00      0.00         4\n",
      "          30       0.00      0.00      0.00         1\n",
      "          31       0.00      0.00      0.00         2\n",
      "          33       0.00      0.00      0.00         1\n",
      "          34       0.26      0.98      0.42        56\n",
      "          35       0.00      0.00      0.00         2\n",
      "          36       0.00      0.00      0.00         2\n",
      "          37       0.00      0.00      0.00         4\n",
      "          38       1.00      1.00      1.00         8\n",
      "          40       0.55      0.67      0.60        24\n",
      "          41       0.00      0.00      0.00         1\n",
      "          43       0.35      0.82      0.49        11\n",
      "          44       0.00      0.00      0.00         5\n",
      "          45       0.00      0.00      0.00         1\n",
      "          46       0.00      0.00      0.00         4\n",
      "          47       0.00      0.00      0.00         6\n",
      "          49       0.00      0.00      0.00         1\n",
      "          50       0.00      0.00      0.00         1\n",
      "          51       0.00      0.00      0.00         1\n",
      "          52       0.00      0.00      0.00         5\n",
      "          53       0.00      0.00      0.00         2\n",
      "          54       0.00      0.00      0.00         1\n",
      "          56       0.00      0.00      0.00         1\n",
      "          57       0.00      0.00      0.00         2\n",
      "          58       0.00      0.00      0.00         1\n",
      "          59       0.00      0.00      0.00         1\n",
      "          60       0.00      0.00      0.00         1\n",
      "          63       0.00      0.00      0.00         1\n",
      "          68       0.00      0.00      0.00        10\n",
      "          69       0.00      0.00      0.00         3\n",
      "          70       0.00      0.00      0.00         3\n",
      "          71       0.00      0.00      0.00        13\n",
      "          72       0.00      0.00      0.00         1\n",
      "          73       1.00      0.50      0.67         2\n",
      "          74       0.00      0.00      0.00         1\n",
      "          75       0.33      0.60      0.43         5\n",
      "          76       0.00      0.00      0.00         5\n",
      "          77       0.00      0.00      0.00         1\n",
      "          79       0.00      0.00      0.00         5\n",
      "          81       0.00      0.00      0.00         5\n",
      "          84       0.00      0.00      0.00         5\n",
      "          85       0.00      0.00      0.00         3\n",
      "          86       0.00      0.00      0.00         1\n",
      "          87       0.00      0.00      0.00         1\n",
      "          89       0.00      0.00      0.00         1\n",
      "          90       0.00      0.00      0.00         2\n",
      "          93       0.00      0.00      0.00         7\n",
      "          94       0.00      0.00      0.00         1\n",
      "          95       0.00      0.00      0.00         6\n",
      "          96       0.19      0.36      0.25        39\n",
      "          97       0.00      0.00      0.00         3\n",
      "          98       1.00      0.33      0.50         6\n",
      "         101       0.00      0.00      0.00         1\n",
      "         102       0.00      0.00      0.00         4\n",
      "         103       1.00      1.00      1.00         7\n",
      "         105       0.00      0.00      0.00         4\n",
      "         106       1.00      1.00      1.00         1\n",
      "         107       0.00      0.00      0.00         4\n",
      "         108       0.00      0.00      0.00         4\n",
      "\n",
      "    accuracy                           0.32       374\n",
      "   macro avg       0.09      0.09      0.09       374\n",
      "weighted avg       0.18      0.32      0.21       374\n",
      "\n"
     ]
    },
    {
     "name": "stderr",
     "output_type": "stream",
     "text": [
      "C:\\Users\\gog10\\anaconda3\\lib\\site-packages\\sklearn\\metrics\\_classification.py:1248: UndefinedMetricWarning: Precision and F-score are ill-defined and being set to 0.0 in labels with no predicted samples. Use `zero_division` parameter to control this behavior.\n",
      "  _warn_prf(average, modifier, msg_start, len(result))\n",
      "C:\\Users\\gog10\\anaconda3\\lib\\site-packages\\sklearn\\metrics\\_classification.py:1248: UndefinedMetricWarning: Precision and F-score are ill-defined and being set to 0.0 in labels with no predicted samples. Use `zero_division` parameter to control this behavior.\n",
      "  _warn_prf(average, modifier, msg_start, len(result))\n",
      "C:\\Users\\gog10\\anaconda3\\lib\\site-packages\\sklearn\\metrics\\_classification.py:1248: UndefinedMetricWarning: Precision and F-score are ill-defined and being set to 0.0 in labels with no predicted samples. Use `zero_division` parameter to control this behavior.\n",
      "  _warn_prf(average, modifier, msg_start, len(result))\n"
     ]
    }
   ],
   "source": [
    "print(classification_report(y_test, y_pred_cnb))"
   ]
  },
  {
   "cell_type": "code",
   "execution_count": 3375,
   "id": "b5f2ab69",
   "metadata": {},
   "outputs": [],
   "source": [
    "#Further thoughts:\n",
    "#Could we add 'Country' into the model?\n",
    "#"
   ]
  }
 ],
 "metadata": {
  "kernelspec": {
   "display_name": "Python 3 (ipykernel)",
   "language": "python",
   "name": "python3"
  },
  "language_info": {
   "codemirror_mode": {
    "name": "ipython",
    "version": 3
   },
   "file_extension": ".py",
   "mimetype": "text/x-python",
   "name": "python",
   "nbconvert_exporter": "python",
   "pygments_lexer": "ipython3",
   "version": "3.9.7"
  }
 },
 "nbformat": 4,
 "nbformat_minor": 5
}
